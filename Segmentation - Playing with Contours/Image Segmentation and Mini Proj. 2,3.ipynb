{
 "cells": [
  {
   "cell_type": "code",
   "execution_count": 2,
   "metadata": {},
   "outputs": [],
   "source": [
    "import cv2\n",
    "import numpy as np"
   ]
  },
  {
   "cell_type": "markdown",
   "metadata": {},
   "source": [
    "# Contours\n",
    "\n",
    "Here we use cv2.findContours(image,type,__). It returns two values."
   ]
  },
  {
   "cell_type": "code",
   "execution_count": 13,
   "metadata": {},
   "outputs": [
    {
     "name": "stdout",
     "output_type": "stream",
     "text": [
      "Numbers of contours found is = 4\n"
     ]
    }
   ],
   "source": [
    "#Grayscale input.\n",
    "input_1 = cv2.imread(\"C:/Users/User/User/Desktop/Contours.jpg\") \n",
    "cv2.imshow(\"original\",input_1)\n",
    "cv2.waitKey()\n",
    "\n",
    "#Gray-Scalling the image\n",
    "grayed = cv2.cvtColor(input_1,cv2.COLOR_BGR2GRAY)\n",
    "\n",
    "# Getting canny edges\n",
    "# edged = cv2.Canny(grayed,30,200) \n",
    "# cv2.imshow(\"edges\",edged)\n",
    "# cv2.waitKey()\n",
    "\n",
    "# contours, heirarchy = cv2.findContours(edged, cv2.RETR_EXTERNAL, cv2.CHAIN_APPROX_NONE)\n",
    "# cv2.imshow(\"edges after contouring\",edged)\n",
    "# cv2.waitKey()\n",
    "\n",
    "ret,thresh = cv2.threshold(grayed,127,255,0)\n",
    "im2, contours, hierarchy = cv2.findContours(thresh,cv2.RETR_TREE,cv2.CHAIN_APPROX_SIMPLE)\n",
    "\n",
    "print(\"Numbers of contours found is = \"+ str(len(contours)))\n",
    "\n",
    "# Draw all contours. Give -1 as third argument to draw all.\n",
    "cv2.drawContours(input_1, contours,-1,(0,255,0),3)\n",
    "\n",
    "\n",
    "cv2.imshow(\"Image with contours\",input_1)\n",
    "cv2.waitKey()\n",
    "\n",
    "\n",
    "cv2.destroyAllWindows()"
   ]
  },
  {
   "cell_type": "markdown",
   "metadata": {},
   "source": [
    "RETR is basically Retreival is the level of contours you want to have."
   ]
  },
  {
   "cell_type": "markdown",
   "metadata": {},
   "source": [
    "## Contours Sorting\n",
    "\n",
    "1. On the basis of size."
   ]
  },
  {
   "cell_type": "code",
   "execution_count": 37,
   "metadata": {},
   "outputs": [],
   "source": [
    "input_2 = cv2.imread(\"C:/Users/User/User/Desktop/Contours_sorting.jpg\") \n",
    "cv2.imshow(\"original\",input_2)\n",
    "cv2.waitKey()\n",
    "\n",
    "grayed_2 = cv2.cvtColor(input_2,cv2.COLOR_BGR2GRAY)\n",
    "cv2.imshow(\"original\",cv2.Canny(grayed,30,200))\n",
    "cv2.waitKey()\n",
    "\n",
    "im2, contours, hierarchy = cv2.findContours(cv2.Canny(grayed_2,30,200),cv2.RETR_EXTERNAL,cv2.CHAIN_APPROX_NONE)\n",
    "\n",
    "blank = np.zeros((input_2.shape[0],input_2.shape[1],3))\n",
    "\n",
    "cv2.drawContours(blank, contours,-1,(0,255,0),3)\n",
    "\n",
    "\n",
    "cv2.imshow(\"Image with contours\",blank)\n",
    "cv2.waitKey()\n",
    "\n",
    "cv2.destroyAllWindows()"
   ]
  },
  {
   "cell_type": "code",
   "execution_count": 44,
   "metadata": {},
   "outputs": [
    {
     "name": "stdout",
     "output_type": "stream",
     "text": [
      "Contour areas before sorting : \n",
      "[7498.5, 25507.0, 36055.0, 65534.0]\n",
      "Contour areas after sorting : \n",
      "[65534.0, 36055.0, 25507.0, 7498.5]\n"
     ]
    }
   ],
   "source": [
    "def getContourAreas(contours):\n",
    "    all_area=[]\n",
    "    for c in contours:\n",
    "        area = cv2.contourArea(c)\n",
    "        all_area.append(area)\n",
    "    return all_area\n",
    "\n",
    "input_2 = cv2.imread(\"C:/Users/User/User/Desktop/Contours_sorting.jpg\")\n",
    "im2, contours_2, hierarchy = cv2.findContours(cv2.Canny(grayed_2,30,200),cv2.RETR_EXTERNAL,cv2.CHAIN_APPROX_NONE)\n",
    "\n",
    "print(\"Contour areas before sorting : \")\n",
    "print(getContourAreas(contours_2))\n",
    "    \n",
    "sorted_contours = sorted(contours_2, key=cv2.contourArea, reverse = True)\n",
    "\n",
    "print(\"Contour areas after sorting : \")\n",
    "print(getContourAreas(sorted_contours))\n",
    "\n",
    "for c in sorted_contours:\n",
    "    cv2.drawContours(input_2, [c],-1,(0,0,0),3)\n",
    "    cv2.waitKey()\n",
    "    cv2.imshow(\"Contours in sorted Manner\",input_2)\n",
    "\n",
    "cv2.waitKey()\n",
    "cv2.destroyAllWindows()\n"
   ]
  },
  {
   "cell_type": "markdown",
   "metadata": {},
   "source": [
    "There are other methods of sorting the contours too. Can be learnt according to usage."
   ]
  },
  {
   "cell_type": "markdown",
   "metadata": {},
   "source": [
    "##  Approximating Contours and finding their Convex Hull"
   ]
  },
  {
   "cell_type": "code",
   "execution_count": 55,
   "metadata": {},
   "outputs": [],
   "source": [
    "approx = cv2.imread(\"C:/Users/User/User/Desktop/Approx.jpg\") \n",
    "cv2.imshow(\"original\",approx)\n",
    "cv2.waitKey()\n",
    "\n",
    "grayed_3 = cv2.cvtColor(approx,cv2.COLOR_BGR2GRAY)\n",
    "cv2.imshow(\"original\",grayed_3)\n",
    "cv2.waitKey()\n",
    "\n",
    "ret,thresh = cv2.threshold(grayed_3,127,255,0)\n",
    "im2, contours, hierarchy = cv2.findContours(thresh,cv2.RETR_TREE,cv2.CHAIN_APPROX_SIMPLE)\n",
    "\n",
    "# Drawing the boundary Rectangles.\n",
    "for c in contours:\n",
    "    x,y,w,h = cv2.boundingRect(c)\n",
    "    cv2.rectangle(approx,(x,y),(x+w,y+h),(0,255,0),2)\n",
    "    cv2.waitKey()\n",
    "    cv2.imshow(\"The fitting contours\",approx)\n",
    "    \n",
    "Approx = cv2.imread(\"C:/Users/User/User/Desktop/Approx.jpg\")\n",
    "\n",
    "for c in contours:\n",
    "    accuracy = 0.03*cv2.arcLength(c,True)\n",
    "    approx = cv2.approxPolyDP(c,accuracy,True)\n",
    "    cv2.drawContours(Approx, [approx],-1,(0,0,0),3)\n",
    "    cv2.waitKey()\n",
    "    cv2.imshow(\"The Approximate contours\",Approx)\n",
    "#\n",
    "cv2.waitKey()    \n",
    "cv2.destroyAllWindows()"
   ]
  },
  {
   "cell_type": "markdown",
   "metadata": {},
   "source": [
    "## Convex Hull"
   ]
  },
  {
   "cell_type": "code",
   "execution_count": 63,
   "metadata": {},
   "outputs": [],
   "source": [
    "hull = cv2.imread(\"C:/Users/User/User/Desktop/hull.jpg\") \n",
    "cv2.imshow(\"original\",hull)\n",
    "cv2.waitKey()\n",
    "\n",
    "grayed_4 = cv2.cvtColor(hull,cv2.COLOR_BGR2GRAY)\n",
    "\n",
    "ret,thresh = cv2.threshold(grayed_4,127,255,0)\n",
    "im2, contours, hierarchy = cv2.findContours(thresh,cv2.RETR_LIST,cv2.CHAIN_APPROX_SIMPLE)\n",
    "\n",
    "n = len(contours) -1\n",
    "contours = sorted(contours, key=cv2.contourArea, reverse = True)[:n]\n",
    "\n",
    "for c in contours:\n",
    "    Hull = cv2.convexHull(c)\n",
    "    cv2.drawContours(hull, [Hull],-1,(255,0,0),2)\n",
    "    cv2.waitKey()\n",
    "    cv2.imshow(\"Convex Hull\", hull)\n",
    "\n",
    "cv2.waitKey()\n",
    "cv2.destroyAllWindows()"
   ]
  },
  {
   "cell_type": "markdown",
   "metadata": {},
   "source": [
    "##  Contour Matching\n",
    "\n",
    "Can be done simply by cv2.matchShapes(target, c , (1/2/3 i.e. type of matching), 0.0 <-this should not be touched)"
   ]
  },
  {
   "cell_type": "code",
   "execution_count": null,
   "metadata": {},
   "outputs": [],
   "source": []
  }
 ],
 "metadata": {
  "kernelspec": {
   "display_name": "Python 3",
   "language": "python",
   "name": "python3"
  },
  "language_info": {
   "codemirror_mode": {
    "name": "ipython",
    "version": 3
   },
   "file_extension": ".py",
   "mimetype": "text/x-python",
   "name": "python",
   "nbconvert_exporter": "python",
   "pygments_lexer": "ipython3",
   "version": "3.6.4"
  }
 },
 "nbformat": 4,
 "nbformat_minor": 2
}
