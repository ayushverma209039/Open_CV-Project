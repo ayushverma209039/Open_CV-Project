{
 "cells": [
  {
   "cell_type": "code",
   "execution_count": 1,
   "metadata": {},
   "outputs": [],
   "source": [
    "import cv2\n",
    "import numpy as np\n",
    "import matplotlib.pyplot as plt"
   ]
  },
  {
   "cell_type": "markdown",
   "metadata": {},
   "source": [
    "Here it is explained how to read an image, show image from your directory and then using a function to convert it into grayscale.\n",
    "cv2.destroyAllWindows is an compusory function to avoid crashing of Notebook."
   ]
  },
  {
   "cell_type": "code",
   "execution_count": 2,
   "metadata": {},
   "outputs": [],
   "source": [
    "input2 = cv2.imread(\"C:/Users/User/User/Desktop/22500900.jpg\")\n",
    "cv2.imshow(\"ayush\",input2)\n",
    "cv2.waitKey()\n",
    "grayimg = cv2.cvtColor(input2,cv2.COLOR_BGR2GRAY)\n",
    "cv2.imshow(\"ayush_gray\",grayimg)\n",
    "cv2.waitKey()\n",
    "cv2.destroyAllWindows()"
   ]
  },
  {
   "cell_type": "markdown",
   "metadata": {},
   "source": [
    "Shape of the input image can be seen as described below."
   ]
  },
  {
   "cell_type": "code",
   "execution_count": 3,
   "metadata": {},
   "outputs": [
    {
     "data": {
      "text/plain": [
       "(222, 222, 3)"
      ]
     },
     "execution_count": 3,
     "metadata": {},
     "output_type": "execute_result"
    }
   ],
   "source": [
    "input2.shape"
   ]
  },
  {
   "cell_type": "markdown",
   "metadata": {},
   "source": [
    "While reading the image if you pass the rgument as 0 the image will be automatically be read as gray scaled."
   ]
  },
  {
   "cell_type": "code",
   "execution_count": 4,
   "metadata": {},
   "outputs": [],
   "source": [
    "input3 = cv2.imread(\"C:/Users/User/User/Desktop/22500900.jpg\",0)\n",
    "cv2.imshow(\"GrayShort\",input3)\n",
    "cv2.waitKey()\n",
    "cv2.destroyAllWindows()"
   ]
  },
  {
   "cell_type": "markdown",
   "metadata": {},
   "source": [
    "You can see that the gray image do not have three channels as in the RGB one. Confirmation below. "
   ]
  },
  {
   "cell_type": "code",
   "execution_count": 5,
   "metadata": {},
   "outputs": [
    {
     "data": {
      "text/plain": [
       "(222, 222)"
      ]
     },
     "execution_count": 5,
     "metadata": {},
     "output_type": "execute_result"
    }
   ],
   "source": [
    "input3.shape"
   ]
  },
  {
   "cell_type": "markdown",
   "metadata": {},
   "source": [
    "Now we will see the Red only, Blue only, Green only parts of the selected image."
   ]
  },
  {
   "cell_type": "code",
   "execution_count": 6,
   "metadata": {},
   "outputs": [],
   "source": [
    "B,G,R = cv2.split(input2)\n",
    "zeros = np.zeros(input2.shape[:2],dtype = 'uint8')\n",
    "cv2.imshow('Red',cv2.merge([zeros,zeros,R]))\n",
    "cv2.imshow('Green',cv2.merge([zeros,G,zeros]))\n",
    "cv2.imshow('Blue',cv2.merge([B,zeros,zeros]))\n",
    "cv2.waitKey()\n",
    "cv2.destroyAllWindows()"
   ]
  },
  {
   "cell_type": "markdown",
   "metadata": {},
   "source": [
    "Now showing the intensity of the colors using the matplotlib function."
   ]
  },
  {
   "cell_type": "code",
   "execution_count": 7,
   "metadata": {
    "scrolled": true
   },
   "outputs": [
    {
     "data": {
      "image/png": "[encoded data removed]",
      "text/plain": [
       "<matplotlib.figure.Figure at 0x11dd8b96978>"
      ]
     },
     "metadata": {},
     "output_type": "display_data"
    }
   ],
   "source": [
    "color = ['b','g','r']\n",
    "for i,col in enumerate(color):\n",
    "    histogram2 = cv2.calcHist([input2],[i],None,[256],[0,256])\n",
    "    plt.plot(histogram2,color = col)\n",
    "    plt.xlim([0,256])\n",
    "    \n",
    "plt.show()"
   ]
  },
  {
   "cell_type": "markdown",
   "metadata": {},
   "source": [
    "Now we will learn about IMAGE MANUIPULATIONS:"
   ]
  },
  {
   "cell_type": "markdown",
   "metadata": {},
   "source": [
    "1) Translations:\n",
    "\n",
    "We use cv2.warpAffine(image, T : translation vector, (Width,Height))"
   ]
  },
  {
   "cell_type": "code",
   "execution_count": 8,
   "metadata": {},
   "outputs": [],
   "source": [
    "input_1 = cv2.imread(\"C:/Users/User/User/Desktop/22500900.jpg\")\n",
    "height, width = input_1.shape[:2]\n",
    "\n",
    "fourth_H,fourth_W = height/4, width/4\n",
    "\n",
    "#             | 1  0  Tx |\n",
    "# T    =      | 0  1  Ty |\n",
    "\n",
    "T = np.float32([[1,0,fourth_W],[0,1,fourth_H]])\n",
    "\n",
    "\n",
    "translation = cv2.warpAffine(input_1,T,(width,height))\n",
    "cv2.imshow('Translated',translation)\n",
    "cv2.waitKey()\n",
    "cv2.destroyAllWindows()"
   ]
  },
  {
   "cell_type": "markdown",
   "metadata": {},
   "source": [
    "2) Rotatons :                  WE USE \n",
    "\n",
    "cv2.getRotationMatrix2D(centre_x,centre_y,angle of rotation,scale)\n",
    "\n",
    "Now implementing using the warpAffine function only."
   ]
  },
  {
   "cell_type": "code",
   "execution_count": 9,
   "metadata": {},
   "outputs": [],
   "source": [
    "input_1 = cv2.imread(\"C:/Users/User/User/Desktop/22500900.jpg\")\n",
    "height, width = input_1.shape[:2]\n",
    "\n",
    "rotation_Matrix = cv2.getRotationMatrix2D((height/2, width/2),60,1) # Rotationing by 60 degree.\n",
    "\n",
    "rotation = cv2.warpAffine(input_1,rotation_Matrix,(width,height))\n",
    "cv2.imshow('Rotated',rotation)\n",
    "cv2.waitKey()\n",
    "cv2.destroyAllWindows()"
   ]
  },
  {
   "cell_type": "code",
   "execution_count": 10,
   "metadata": {},
   "outputs": [],
   "source": [
    "# For only a 90 degree rotation there is quicker way.\n",
    "\n",
    "cv2.imshow('Transposed',cv2.transpose(input_1))\n",
    "cv2.waitKey()\n",
    "cv2.destroyAllWindows()\n",
    "\n",
    "#Notice here a transpose operation has taken place. "
   ]
  },
  {
   "cell_type": "markdown",
   "metadata": {},
   "source": [
    "3)  SCALING, RESIZING, INTERPOLATION."
   ]
  },
  {
   "cell_type": "code",
   "execution_count": 11,
   "metadata": {},
   "outputs": [],
   "source": [
    "input_1 = cv2.imread(\"C:/Users/User/User/Desktop/22500900.jpg\")\n",
    "\n",
    "# Make the image (3/4)th of the original size.\n",
    "image_scaled = cv2.resize(input_1, None, fx = 0.75, fy = 0.75)\n",
    "cv2.imshow(\"Scaling_linear\",image_scaled)\n",
    "cv2.waitKey()\n",
    "\n",
    "# Make the image twice its size.\n",
    "image_scaled = cv2.resize(input_1,None,fx=2,fy=2, interpolation = cv2.INTER_CUBIC)\n",
    "cv2.imshow(\"Scaling_cubic\",image_scaled)\n",
    "cv2.waitKey()\n",
    "\n",
    "# Make the image as of the desired size. \n",
    "image_scaled = cv2.resize(input_1,(100,100), interpolation=cv2.INTER_AREA)\n",
    "cv2.imshow(\"Scaling_linear\",image_scaled)\n",
    "cv2.waitKey()\n",
    "\n",
    "cv2.destroyAllWindows()"
   ]
  },
  {
   "cell_type": "markdown",
   "metadata": {},
   "source": [
    "4) Cropping an Image"
   ]
  },
  {
   "cell_type": "code",
   "execution_count": 12,
   "metadata": {},
   "outputs": [],
   "source": [
    "input_1 = cv2.imread(\"C:/Users/User/User/Desktop/22500900.jpg\")\n",
    "height, width = input_1.shape[:2]\n",
    "\n",
    "start_x, start_y = int(width*0.05),int(height*0.4)\n",
    "end_x, end_y = int(width*0.75),int(height*0.95)\n",
    "\n",
    "\n",
    "cropped = input_1[start_x:end_x,start_y:end_y]\n",
    "\n",
    "cv2.imshow(\"original\",input_1)\n",
    "cv2.waitKey()\n",
    "cv2.imshow(\"cropped\", cropped)\n",
    "cv2.waitKey()\n",
    "cv2.destroyAllWindows()"
   ]
  },
  {
   "cell_type": "markdown",
   "metadata": {},
   "source": [
    "5) Brightness or Darkennig of an image./ Arithmetic operations"
   ]
  },
  {
   "cell_type": "code",
   "execution_count": 13,
   "metadata": {},
   "outputs": [],
   "source": [
    "input_1 = cv2.imread(\"C:/Users/User/User/Desktop/22500900.jpg\")\n",
    "\n",
    "M = np.ones(input_1.shape,dtype='uint8')*125\n",
    "\n",
    "cv2.imshow(\"original\",input_1)\n",
    "cv2.waitKey()\n",
    "bright = cv2.add(input_1,M)\n",
    "cv2.imshow(\"bright\",bright)\n",
    "cv2.waitKey()\n",
    "dark = cv2.subtract(input_1,M)\n",
    "cv2.imshow(\"dark_one\",dark)\n",
    "cv2.waitKey()\n",
    "cv2.destroyAllWindows()"
   ]
  },
  {
   "cell_type": "markdown",
   "metadata": {},
   "source": [
    "6) Bitwise operations"
   ]
  },
  {
   "cell_type": "markdown",
   "metadata": {},
   "source": [
    "7) Blurring"
   ]
  },
  {
   "cell_type": "code",
   "execution_count": 14,
   "metadata": {},
   "outputs": [],
   "source": [
    "input_1 = cv2.imread(\"C:/Users/User/User/Desktop/22500900.jpg\")\n",
    "cv2.imshow(\"original\",input_1)\n",
    "cv2.waitKey()\n",
    "b1 = cv2.blur(input_1,(3,3))\n",
    "cv2.imshow(\"Averaging\",b1)\n",
    "cv2.waitKey()\n",
    "\n",
    "b2 = cv2.GaussianBlur(input_1,(3,3),0)\n",
    "cv2.imshow(\"Gaussian\",b2)\n",
    "cv2.waitKey()\n",
    "\n",
    "b3 = cv2.medianBlur(input_1,3)  # to give watercolor effect.  Higher the value, higher will be the blur and wclr effect.\n",
    "cv2.imshow(\"median\",b3)\n",
    "cv2.waitKey()\n",
    "\n",
    "b4 = cv2.bilateralFilter(input_1,9,75,75)\n",
    "cv2.imshow(\"Bilateral\",b4)\n",
    "cv2.waitKey()\n",
    "\n",
    "cv2.destroyAllWindows()"
   ]
  },
  {
   "cell_type": "markdown",
   "metadata": {},
   "source": [
    "BONUS: IMAGE DE-noising"
   ]
  },
  {
   "cell_type": "code",
   "execution_count": 15,
   "metadata": {},
   "outputs": [],
   "source": [
    "input_1 = cv2.imread(\"C:/Users/User/User/Desktop/22500900.jpg\")\n",
    "\n",
    "dst = cv2.fastNlMeansDenoisingColored(input_1,None,6,6,7,21)\n",
    "cv2.imshow(\"Fast Means Denoising \",dst)\n",
    "cv2.waitKey()\n",
    "\n",
    "cv2.destroyAllWindows()"
   ]
  },
  {
   "cell_type": "markdown",
   "metadata": {},
   "source": [
    "8) SHARPENNING\n",
    "\n",
    "Here notice that the Kernel is a bit differently normalised."
   ]
  },
  {
   "cell_type": "code",
   "execution_count": 16,
   "metadata": {},
   "outputs": [],
   "source": [
    "input_1 = cv2.imread(\"C:/Users/User/User/Desktop/22500900.jpg\")\n",
    "\n",
    "Ker_sharp = np.array([[-2,-2,-2],\n",
    "                      [-2,18,-2],\n",
    "                      [-2,-2,-2]])\n",
    "\n",
    "sharpened = cv2.filter2D(input_1,-1,Ker_sharp)\n",
    "\n",
    "cv2.imshow(\"original\",input_1)\n",
    "cv2.waitKey()\n",
    "cv2.imshow(\"Sharp image\",sharpened)\n",
    "cv2.waitKey()\n",
    "cv2.destroyAllWindows()"
   ]
  },
  {
   "cell_type": "markdown",
   "metadata": {},
   "source": [
    "9) Thresh-Holding Basically Cutoff at a particular point. Will understand in the Mini Project. "
   ]
  },
  {
   "cell_type": "markdown",
   "metadata": {},
   "source": [
    "10)  Morphology Operations : Dilation, Erosion, Opening, Closing."
   ]
  },
  {
   "cell_type": "code",
   "execution_count": 17,
   "metadata": {},
   "outputs": [],
   "source": [
    "input_2 = cv2.imread(\"C:/Users/User/User/Desktop/ayush.jpg\",0)\n",
    "cv2.imshow(\"original\",input_2)\n",
    "\n",
    "kernel = np.ones((5,5),np.uint8)\n",
    "\n",
    "erosion = cv2.erode(input_2,kernel,iterations = 1)\n",
    "cv2.imshow(\"eroded\",erosion)\n",
    "cv2.waitKey()\n",
    "\n",
    "dialation = cv2.dilate(input_2,kernel,iterations = 1)\n",
    "cv2.imshow(\"dilated\",dialation)\n",
    "cv2.waitKey()\n",
    "\n",
    "opening = cv2.morphologyEx(input_2,cv2.MORPH_OPEN,kernel)\n",
    "cv2.imshow(\"open\",opening)\n",
    "cv2.waitKey()\n",
    "\n",
    "closing = cv2.morphologyEx(input_2,cv2.MORPH_CLOSE,kernel)\n",
    "cv2.imshow(\"close\",closing)\n",
    "cv2.waitKey()\n",
    "\n",
    "cv2.destroyAllWindows()"
   ]
  },
  {
   "cell_type": "markdown",
   "metadata": {},
   "source": [
    "11) Edge Detection"
   ]
  },
  {
   "cell_type": "code",
   "execution_count": 18,
   "metadata": {},
   "outputs": [],
   "source": [
    "input_1 = cv2.imread(\"C:/Users/User/User/Desktop/22500900.jpg\",0)\n",
    "\n",
    "# Sobel Edge detection.\n",
    "\n",
    "height, width = input_1.shape\n",
    "\n",
    "sobel_x = cv2.Sobel(input_1,cv2.CV_64F,0,1,ksize=5)\n",
    "sobel_y = cv2.Sobel(input_1,cv2.CV_64F,1,0,ksize=5)\n",
    "\n",
    "cv2.imshow(\"original\",input_1)\n",
    "cv2.waitKey()\n",
    "cv2.imshow(\"SobelX\",sobel_x)\n",
    "cv2.waitKey()\n",
    "cv2.imshow(\"SobelY\",sobel_y)\n",
    "cv2.waitKey()\n",
    "cv2.imshow(\"Combined Sobel\",cv2.bitwise_or(sobel_x,sobel_y))\n",
    "cv2.waitKey()\n",
    "\n",
    "# Laplacian Edge Detection\n",
    "\n",
    "cv2.imshow(\"Laplacian\",cv2.Laplacian(input_1,cv2.CV_64F))\n",
    "cv2.waitKey()\n",
    "\n",
    "\n",
    "# Canny Edge Detection.\n",
    "\n",
    "cv2.imshow(\"Canny\",cv2.Canny(input_1,20,170))\n",
    "cv2.waitKey()\n",
    "\n",
    "cv2.destroyAllWindows()"
   ]
  },
  {
   "cell_type": "markdown",
   "metadata": {},
   "source": [
    "MINI PROJECT NUMBER 1   : Implement all these."
   ]
  },
  {
   "cell_type": "code",
   "execution_count": 19,
   "metadata": {},
   "outputs": [],
   "source": [
    "def Sketch(Img):\n",
    "    gray_img = cv2.cvtColor(Img,cv2.COLOR_BGR2GRAY)\n",
    "    \n",
    "    gray_img_blur = cv2.GaussianBlur(gray_img,(5,5),0)\n",
    "    \n",
    "    canny_edges = cv2.Canny(gray_img_blur,10,70)\n",
    "    \n",
    "    ret, mask = cv2.threshold(canny_edges,70,255, cv2.THRESH_BINARY_INV)\n",
    "    \n",
    "    return mask\n",
    "\n",
    "cap = cv2.VideoCapture(0)\n",
    "\n",
    "while True:\n",
    "    \n",
    "    ret, frame = cap.read()\n",
    "    cv2.imshow(\"Our Live Sketch\",Sketch(frame))\n",
    "    if cv2.waitKey(1) == 13:\n",
    "        break\n",
    "        \n",
    "cap.release()\n",
    "cv2.destroyAllWindows()"
   ]
  },
  {
   "cell_type": "code",
   "execution_count": null,
   "metadata": {},
   "outputs": [],
   "source": []
  }
 ],
 "metadata": {
  "kernelspec": {
   "display_name": "Python 3",
   "language": "python",
   "name": "python3"
  },
  "language_info": {
   "codemirror_mode": {
    "name": "ipython",
    "version": 3
   },
   "file_extension": ".py",
   "mimetype": "text/x-python",
   "name": "python",
   "nbconvert_exporter": "python",
   "pygments_lexer": "ipython3",
   "version": "3.6.4"
  }
 },
 "nbformat": 4,
 "nbformat_minor": 2
}
